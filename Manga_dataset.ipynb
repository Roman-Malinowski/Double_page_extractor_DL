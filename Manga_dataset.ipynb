{
 "cells": [
  {
   "cell_type": "code",
   "execution_count": null,
   "id": "19b86cfe-1d70-4a53-9f28-c13b9c061a3a",
   "metadata": {},
   "outputs": [],
   "source": [
    "%load_ext autoreload\n",
    "%autoreload 1"
   ]
  },
  {
   "cell_type": "code",
   "execution_count": null,
   "id": "1766444a-04e7-48ca-b854-fb669f2be4da",
   "metadata": {},
   "outputs": [],
   "source": [
    "import os\n",
    "import logging\n",
    "import shutil\n",
    "\n",
    "import numpy as np\n",
    "import pandas as pd\n",
    "from PIL import Image\n",
    "import matplotlib.pyplot as plt\n",
    "import matplotlib as mpl\n",
    "import cv2"
   ]
  },
  {
   "cell_type": "code",
   "execution_count": null,
   "id": "8fe69488-c453-46c0-9d0b-7cd8231ca3e4",
   "metadata": {},
   "outputs": [],
   "source": [
    "import torch\n",
    "from torch.utils.data import DataLoader\n",
    "from torchvision import utils\n",
    "import torchvision.transforms as transforms\n",
    "from skimage import io, transform, color"
   ]
  },
  {
   "cell_type": "code",
   "execution_count": null,
   "id": "968ad46e-7844-4b77-b6d3-af6b23217fc4",
   "metadata": {},
   "outputs": [],
   "source": [
    "%aimport manga_dataset"
   ]
  },
  {
   "cell_type": "code",
   "execution_count": null,
   "id": "d8075f2a-6cef-405a-b62e-dca5c8187bd3",
   "metadata": {},
   "outputs": [],
   "source": [
    "logging.basicConfig(encoding='utf-8', level=logging.INFO, format=\"%(asctime)s - %(levelname)s: %(message)s\", datefmt='%Y/%m/%d %H:%M:%S')\n",
    "logger = logging.getLogger(__name__)\n",
    "\n",
    "mpl.rcParams[\"image.cmap\"] = \"gray\""
   ]
  },
  {
   "cell_type": "markdown",
   "id": "9afe373a-caef-4aaf-8cc6-c3410032f7ce",
   "metadata": {},
   "source": [
    "[Torch tuto](https://pytorch.org/tutorials/beginner/blitz/cifar10_tutorial.html): `https://pytorch.org/tutorials/beginner/blitz/cifar10_tutorial.html`"
   ]
  },
  {
   "cell_type": "code",
   "execution_count": null,
   "id": "c9301c3b-bed2-4f2f-937a-a173028e0847",
   "metadata": {},
   "outputs": [],
   "source": [
    "ds = manga_dataset.MangaPagesDataset(csv_file='/Users/romanmalinowski/Code/Classifier_manga/data/images_data.csv',\n",
    "                                     root_dir='/Users/romanmalinowski/Code/Classifier_manga/data/images')"
   ]
  },
  {
   "cell_type": "code",
   "execution_count": null,
   "id": "0887c768-6d97-4f07-b3aa-2ec7ac7aca0d",
   "metadata": {},
   "outputs": [],
   "source": [
    "rng = np.random.default_rng(42)\n",
    "for manga in pd.unique(ds.df[\"Manga\"]):\n",
    "    logging.info(manga)\n",
    "    list_idx = rng.choice(ds.df[ds.df[\"Manga\"]==manga].index, 3)\n",
    "    for k in list_idx:\n",
    "        fig, ax = plt.subplots(1,1)\n",
    "        ax.imshow(ds[k][\"image\"], cmap=\"gray\")\n",
    "        ax.set_title(ds.df.loc[k, \"File_name\"] + \" | \" + ds.df.loc[k, \"pairing\"])\n",
    "        plt.show()\n",
    "        plt.close()\n",
    "        "
   ]
  },
  {
   "cell_type": "code",
   "execution_count": null,
   "id": "fe91a000-42f5-49d0-b473-02e99e587cd9",
   "metadata": {},
   "outputs": [],
   "source": [
    "dataloader = DataLoader(ds, batch_size=4,\n",
    "                        shuffle=True, num_workers=0)"
   ]
  },
  {
   "cell_type": "code",
   "execution_count": null,
   "id": "34228a4a-842c-43b0-8b0f-d3f10f1f12fe",
   "metadata": {},
   "outputs": [],
   "source": [
    "sample_batched = next(iter(dataloader))"
   ]
  },
  {
   "cell_type": "code",
   "execution_count": null,
   "id": "56fb6a6d-a043-4da0-a502-7dd339ad63eb",
   "metadata": {},
   "outputs": [],
   "source": [
    "fig, axes = plt.subplots(2,2)\n",
    "\n",
    "axes[0,0].imshow(sample_batched[\"image\"][0])\n",
    "axes[0,0].set_title(\"Is double\" if sample_batched[\"label\"][0] else \"Is splitted\")\n",
    "\n",
    "axes[0,1].imshow(sample_batched[\"image\"][1])\n",
    "axes[0,1].set_title(\"Is double\" if sample_batched[\"label\"][1] else \"Is splitted\")\n",
    "\n",
    "axes[1,0].imshow(sample_batched[\"image\"][2])\n",
    "axes[1,0].set_title(\"Is double\" if sample_batched[\"label\"][2] else \"Is splitted\")\n",
    "\n",
    "axes[1,1].imshow(sample_batched[\"image\"][3])\n",
    "axes[1,1].set_title(\"Is double\" if sample_batched[\"label\"][3] else \"Is splitted\")"
   ]
  },
  {
   "cell_type": "code",
   "execution_count": null,
   "id": "0d052736-965f-4986-8da1-937816dfb0db",
   "metadata": {},
   "outputs": [],
   "source": []
  }
 ],
 "metadata": {
  "kernelspec": {
   "display_name": "venv_pytorch",
   "language": "python",
   "name": "venv_pytorch"
  },
  "language_info": {
   "codemirror_mode": {
    "name": "ipython",
    "version": 3
   },
   "file_extension": ".py",
   "mimetype": "text/x-python",
   "name": "python",
   "nbconvert_exporter": "python",
   "pygments_lexer": "ipython3",
   "version": "3.9.13"
  }
 },
 "nbformat": 4,
 "nbformat_minor": 5
}
