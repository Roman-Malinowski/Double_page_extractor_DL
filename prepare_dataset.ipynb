{
 "cells": [
  {
   "cell_type": "code",
   "execution_count": null,
   "id": "f1a5d923-abf3-4c4f-9c9e-775bbf31e9c0",
   "metadata": {},
   "outputs": [],
   "source": [
    "import io\n",
    "import os\n",
    "import shutil\n",
    "\n",
    "import filetype\n",
    "\n",
    "import numpy as np\n",
    "import pandas as pd\n",
    "from PIL import Image\n",
    "import matplotlib.pyplot as plt\n",
    "import cv2\n",
    "import fitz"
   ]
  },
  {
   "cell_type": "code",
   "execution_count": null,
   "id": "8334431e-151a-46c2-9a5d-9724156b3853",
   "metadata": {},
   "outputs": [],
   "source": [
    "import torch\n",
    "import torchvision\n",
    "import torchvision.transforms as transforms\n",
    "from skimage import io, transform"
   ]
  },
  {
   "cell_type": "markdown",
   "id": "00ff52cc-1483-4243-adad-60e4a1d94b8f",
   "metadata": {
    "tags": []
   },
   "source": [
    "# test"
   ]
  },
  {
   "cell_type": "code",
   "execution_count": null,
   "id": "8bab02ed-cd4e-40bf-b10e-1c3783d68364",
   "metadata": {},
   "outputs": [],
   "source": [
    "path = \"/Users/romanmalinowski/Documents/Manga\"\n",
    "manga = \"DANDADAN\"\n",
    "\n",
    "# Don't know why but the pdf has blank pages, but converting to RGB fixes it\n",
    "def convert(i):\n",
    "    if i.mode == \"P\":\n",
    "        return i.convert('L')\n",
    "    return i\n",
    "\n",
    "for tome in [\"T07\"]:\n",
    "    print(tome)\n",
    "    n_tome = tome.split(\"T\")[-1]\n",
    "\n",
    "    im_files = os.listdir(os.path.join(path, manga, tome))\n",
    "    im_files = [i for i in im_files if (\".jpg\" in i.lower()) or (\".jpeg\" in i.lower()) or (\".png\" in i.lower())]\n",
    "    im_files.sort()\n",
    "\n",
    "    images = [convert(Image.open(os.path.join(path, manga, tome, i))) for i in im_files]"
   ]
  },
  {
   "cell_type": "code",
   "execution_count": null,
   "id": "260fea5b-f3b7-4a36-b685-1a28ec45137a",
   "metadata": {},
   "outputs": [],
   "source": [
    "for k, image in enumerate(images):\n",
    "    if image._size[1] < image._size[0]:\n",
    "        print(k)"
   ]
  },
  {
   "cell_type": "code",
   "execution_count": null,
   "id": "948bd09b-55eb-44c7-a906-f7be253b8b8a",
   "metadata": {},
   "outputs": [],
   "source": [
    "images[37]"
   ]
  },
  {
   "cell_type": "code",
   "execution_count": null,
   "id": "245be7b1-0d17-410f-b770-6ec58da6628f",
   "metadata": {},
   "outputs": [],
   "source": [
    "images[38]._size"
   ]
  },
  {
   "cell_type": "code",
   "execution_count": null,
   "id": "102e1ea1-8604-43c3-9968-d100ce0221eb",
   "metadata": {},
   "outputs": [],
   "source": [
    "im = np.asarray(images[38]).astype(np.uint8)\n",
    "im.shape"
   ]
  },
  {
   "cell_type": "code",
   "execution_count": null,
   "id": "53068b41-5f7e-4a46-9cb5-9f15565f699c",
   "metadata": {},
   "outputs": [],
   "source": [
    "middle_col = im.shape[1]//2\n",
    "margin = 30\n",
    "\n",
    "fig, ax = plt.subplots(1,1,figsize=(20,20))\n",
    "\n",
    "ax.imshow(im[:,middle_col-margin:middle_col+margin], cmap=\"gray\", vmin=0, vmax=255)"
   ]
  },
  {
   "cell_type": "code",
   "execution_count": null,
   "id": "536ddb69-314f-4f49-acf3-9d28089130b7",
   "metadata": {},
   "outputs": [],
   "source": [
    "fake_i = 30\n",
    "im_l = np.asarray(images[fake_i]).astype(np.uint8)\n",
    "im_r = np.asarray(images[fake_i+1]).astype(np.uint8)\n",
    "\n",
    "im_fake = np.hstack((im_l, im_r))"
   ]
  },
  {
   "cell_type": "code",
   "execution_count": null,
   "id": "fe985412-21d6-4231-80db-2933e78c27a4",
   "metadata": {},
   "outputs": [],
   "source": [
    "middle_col = im_fake.shape[1]//2\n",
    "margin = 30\n",
    "\n",
    "fig, ax = plt.subplots(1,1,figsize=(20,20))\n",
    "\n",
    "ax.imshow(im_fake[:,middle_col-margin:middle_col+margin], cmap=\"gray\", vmin=0, vmax=255)"
   ]
  },
  {
   "cell_type": "code",
   "execution_count": null,
   "id": "8581d057-760f-40fc-93a2-bb6e0eea220a",
   "metadata": {},
   "outputs": [],
   "source": [
    "np.array(images[38])[300-10:300+10, 1200-10:1200+10]"
   ]
  },
  {
   "cell_type": "markdown",
   "id": "9c1179ab-e91c-42c5-953d-4d0a164eca09",
   "metadata": {},
   "source": [
    "# Bases for dataset\n",
    "[Torch tuto](https://pytorch.org/tutorials/beginner/blitz/cifar10_tutorial.html): `https://pytorch.org/tutorials/beginner/blitz/cifar10_tutorial.html`"
   ]
  },
  {
   "cell_type": "code",
   "execution_count": null,
   "id": "29cdf860-efd2-4bd4-af59-cd84a315fc39",
   "metadata": {},
   "outputs": [],
   "source": [
    "transform = transforms.Compose(\n",
    "    [transforms.ToTensor(),\n",
    "     transforms.Normalize((0.5, 0.5, 0.5), (0.5, 0.5, 0.5))])\n",
    "\n",
    "batch_size = 4\n",
    "\n",
    "trainset = torchvision.datasets.CIFAR10(root='./data', train=True,\n",
    "                                        download=True, transform=transform)\n",
    "trainloader = torch.utils.data.DataLoader(trainset, batch_size=batch_size,\n",
    "                                          shuffle=True, num_workers=2)\n",
    "\n",
    "testset = torchvision.datasets.CIFAR10(root='./data', train=False,\n",
    "                                       download=True, transform=transform)\n",
    "testloader = torch.utils.data.DataLoader(testset, batch_size=batch_size,\n",
    "                                         shuffle=False, num_workers=2)"
   ]
  },
  {
   "cell_type": "code",
   "execution_count": null,
   "id": "c714cf9e-b1f4-45b6-9822-ebc9ecf12451",
   "metadata": {},
   "outputs": [],
   "source": [
    "class MangaPagesDataset(torch.utils.data.Dataset):\n",
    "    \"\"\"Manga Pages dataset.\"\"\"\n",
    "\n",
    "    def __init__(self, csv_file, root_dir, seed=42, transform=None):\n",
    "        \"\"\"\n",
    "        Arguments:\n",
    "            csv_file (string): Path to the csv file with annotations.\n",
    "            root_dir (string): Directory with all the images.\n",
    "            transform (callable, optional): Optional transform to be applied\n",
    "                on a sample.\n",
    "        \"\"\"\n",
    "        self.dataframe = pd.read_csv(csv_file)\n",
    "        self.root_dir = root_dir\n",
    "        self.transform = transform\n",
    "\n",
    "    def __len__(self):\n",
    "        return len(self.dataframe)\n",
    "    \n",
    "    # TODO\n",
    "    def __getitem__(self, idx):\n",
    "        if torch.is_tensor(idx):\n",
    "            idx = idx.tolist()\n",
    "\n",
    "        img_name = os.path.join(self.root_dir,\n",
    "                                self.dataframe.iloc[idx, 0])\n",
    "        image = io.imread(img_name)\n",
    "        is_double_page = bool(self.dataframe.iloc[idx, 1])\n",
    "        sample = {'image': image, 'is_double_page': is_double_page}\n",
    "\n",
    "        if self.transform:\n",
    "            sample = self.transform(sample)\n",
    "\n",
    "        return sample"
   ]
  },
  {
   "cell_type": "markdown",
   "id": "1bfd1c01-a02e-4aca-8de8-4a0117f532bb",
   "metadata": {
    "jp-MarkdownHeadingCollapsed": true,
    "tags": []
   },
   "source": [
    "## Extracting PDF"
   ]
  },
  {
   "cell_type": "code",
   "execution_count": null,
   "id": "c34de4f8-eb7d-47de-9920-9197c4c90ad2",
   "metadata": {},
   "outputs": [],
   "source": [
    "root_path = \"/Users/romanmalinowski/Documents/Manga\""
   ]
  },
  {
   "cell_type": "code",
   "execution_count": null,
   "id": "bc338e25-3985-461d-9693-819fd293ff30",
   "metadata": {},
   "outputs": [],
   "source": [
    "manga = \"DANDADAN\"\n",
    "\n",
    "list_tomes = [t for t in os.listdir(os.path.join(root_path, manga)) if os.path.isdir(os.path.join(root_path, manga, t)) if t[0]==\"T\"]\n",
    "list_tomes"
   ]
  },
  {
   "cell_type": "code",
   "execution_count": null,
   "id": "10a1af15-26b5-4be3-80a5-95fc1b3480b6",
   "metadata": {},
   "outputs": [],
   "source": [
    "list_tomes = ['T01', 'T02', 'T03', 'T04', 'T05', 'T13', 'T14', 'T15']"
   ]
  },
  {
   "cell_type": "code",
   "execution_count": null,
   "id": "8e372691-efd1-48a9-af7d-5b534fd5c0c1",
   "metadata": {},
   "outputs": [],
   "source": [
    "for tome in list_tomes:\n",
    "    for page in os.listdir(os.path.join(root_path, manga, tome)):\n",
    "        src = os.path.join(root_path, manga, tome, page)\n",
    "        if page == \".DS_Store\":\n",
    "            continue\n",
    "        kind = filetype.guess(src)\n",
    "        if kind.mime.split(\"/\")[0]!=\"image\":\n",
    "            continue\n",
    "        \n",
    "        dst = os.path.join(\"/Users/romanmalinowski/Code/Classifier_manga/data/images\", f\"{manga}_{tome}_{page}\")\n",
    "        shutil.copyfile(src=src, dst=dst)"
   ]
  },
  {
   "cell_type": "code",
   "execution_count": null,
   "id": "c3bb4d6f-03bb-4474-b47d-3c94fa2eca15",
   "metadata": {},
   "outputs": [],
   "source": [
    "manga = \"Berserk\"\n",
    "\n",
    "list_tomes = [t.split(\".pdf\")[0] for t in os.listdir(os.path.join(\"/Users/romanmalinowski/Documents/Manga/\", manga)) if \".pdf\" in t]\n",
    "list_tomes"
   ]
  },
  {
   "cell_type": "code",
   "execution_count": null,
   "id": "aa0dae67-2280-46fd-acb8-e7fae7707fc6",
   "metadata": {},
   "outputs": [],
   "source": [
    "for tome in list_tomes:\n",
    "    \n",
    "    path = f\"/Users/romanmalinowski/Documents/Manga/{manga}/{tome}.pdf\"\n",
    "    pdf_file = fitz.open(path)\n",
    "    print(tome)\n",
    "    \n",
    "    for page_number, page in enumerate(pdf_file): \n",
    "        image_list = page.get_images()\n",
    "        for image_index, img in enumerate(page.get_images(), start=1):\n",
    "            xref = img[0] \n",
    "            # extract image bytes \n",
    "            base_image = pdf_file.extract_image(xref)\n",
    "            image_bytes = base_image[\"image\"]\n",
    " \n",
    "            # Create a PIL Image object from the image bytes\n",
    "            pil_image = Image.open(io.BytesIO(image_bytes))\n",
    "            dst = os.path.join(\"/Users/romanmalinowski/Code/Classifier_manga/data/images\", f\"{manga}_{tome}_{page_number}.png\")\n",
    "            pil_image.save(dst)"
   ]
  },
  {
   "cell_type": "code",
   "execution_count": null,
   "id": "8a1b9092-9d55-41a0-986f-50cb48e16381",
   "metadata": {},
   "outputs": [],
   "source": [
    "for tome in list_tomes:\n",
    "    \n",
    "    path = f\"/Users/romanmalinowski/Documents/Manga/{manga}/{tome}.pdf\"\n",
    "    pdf_file = fitz.open(path)\n",
    "    print(tome)\n",
    "    \n",
    "    for page_number, page in enumerate(pdf_file): \n",
    "        image_list = page.get_images()\n",
    "        for image_index, img in enumerate(page.get_images(), start=1):\n",
    "            xref = img[0] \n",
    "            # extract image bytes \n",
    "            base_image = pdf_file.extract_image(xref)\n",
    "            image_bytes = base_image[\"image\"]\n",
    "\n",
    "            # Create a PIL Image object from the image bytes\n",
    "            pil_image = Image.open(io.BytesIO(image_bytes))\n",
    "            dst = os.path.join(\"/Users/romanmalinowski/Code/Classifier_manga/data/images\", f\"{manga}_{tome}_{page_number}.png\")\n",
    "            pil_image.save(dst)"
   ]
  },
  {
   "cell_type": "markdown",
   "id": "7baadab8-c458-4d0c-8339-5cf8a5fc6530",
   "metadata": {
    "tags": []
   },
   "source": [
    "# Renaming and verifying that there is some double pages"
   ]
  },
  {
   "cell_type": "code",
   "execution_count": null,
   "id": "651f3564-92b9-45c7-afd9-f51468526311",
   "metadata": {},
   "outputs": [],
   "source": [
    "print(f\"{len([k for k in os.listdir('data/images') if k[0]!='.'])} images in total\")"
   ]
  },
  {
   "cell_type": "code",
   "execution_count": null,
   "id": "a7b5a7fe-a23b-4a17-8a23-0938c44c84ce",
   "metadata": {},
   "outputs": [],
   "source": [
    "np.unique([k.split(\"_\")[0] for k in os.listdir(\"data/images\") if k[0]!=\".\"])"
   ]
  },
  {
   "cell_type": "code",
   "execution_count": null,
   "id": "ef69f225-6287-4548-8826-e50a5a51eadc",
   "metadata": {},
   "outputs": [],
   "source": [
    "name = \"Abara-Deluxe-2023\"\n",
    "list_files = [k for k in os.listdir('data/images') if k[0]!='.']\n",
    "list_name = [k for k in list_files if name in k]"
   ]
  },
  {
   "cell_type": "code",
   "execution_count": null,
   "id": "fbbd5ed9-e4be-4290-8458-c2861b94c93b",
   "metadata": {},
   "outputs": [],
   "source": [
    "list_name[:5]"
   ]
  },
  {
   "cell_type": "code",
   "execution_count": null,
   "id": "7c1dd4b2-7a96-4089-be17-c7e95622682d",
   "metadata": {},
   "outputs": [],
   "source": [
    "for k in list_name:\n",
    "    new_name = k.split(\"_\")[0]+\"_\"+k.split(\"_\")[1].replace(\"-\", \"_\") \n",
    "    #if os.path.exists(os.path.join(\"data/images\", new_name)):\n",
    "    #   print(\"Error, file already exists\")\n",
    "    print(k, \"-\", new_name)\n",
    "    #os.rename(os.path.join(\"data/images\", k), os.path.join(\"data/images\", new_name))"
   ]
  },
  {
   "cell_type": "code",
   "execution_count": null,
   "id": "9387fb63-df75-46d2-bde9-22ee0f3d53c2",
   "metadata": {},
   "outputs": [],
   "source": [
    "name = \"Abara-Deluxe-2023\"\n",
    "list_files = [k for k in os.listdir('data/images') if k[0]!='.']\n",
    "list_name = [k for k in list_files if name in k]"
   ]
  },
  {
   "cell_type": "markdown",
   "id": "cd89fedd-e698-4901-a72c-61fc845df0ff",
   "metadata": {},
   "source": [
    "## Counting double pages ratio"
   ]
  },
  {
   "cell_type": "code",
   "execution_count": null,
   "id": "de75bffb-f468-436b-a0ee-d0c8a652c647",
   "metadata": {},
   "outputs": [],
   "source": [
    "list_tomes = np.unique([k.split(\"_\")[1] for k in list_name])\n",
    "\n",
    "double_pages = {t: [] for t in list_tomes}\n",
    "for tome in list_tomes:\n",
    "    pages = [k for k in list_name if tome in k]\n",
    "    for page in pages:\n",
    "        double_pages[tome] += [Image.open(os.path.join(\"data/images\", page)).size]\n",
    "\n",
    "for tome in list_tomes:\n",
    "    count_double_pages = 0\n",
    "    for size in double_pages[tome]:\n",
    "        if size[0] > size[1]:\n",
    "            count_double_pages += 1\n",
    "    print(f\"{tome}: {count_double_pages / len(double_pages[tome]) *100:.2f} %\")"
   ]
  },
  {
   "cell_type": "markdown",
   "id": "b2661798-a9b0-4440-a22b-6ef5d60f05b9",
   "metadata": {},
   "source": [
    "# Creating a dataframe counting info on the data"
   ]
  },
  {
   "cell_type": "code",
   "execution_count": null,
   "id": "7ed54753-8503-4e6d-b249-66705167038d",
   "metadata": {},
   "outputs": [],
   "source": [
    "list_files = [k for k in os.listdir('data/images') if k[0]!='.']\n",
    "\n",
    "df = pd.DataFrame(columns=[\"File_name\", \"Manga\", \"Volume\"], index=np.arange(len(list_files)).astype(int))"
   ]
  },
  {
   "cell_type": "code",
   "execution_count": null,
   "id": "d498f47c-9ed5-437b-be1f-cf1418fbd459",
   "metadata": {},
   "outputs": [],
   "source": [
    "for i, file in enumerate(list_files):\n",
    "    split = file.split(\"_\")\n",
    "    df.loc[i, [\"File_name\", \"Manga\", \"Volume\"]] = [file, split[0], split[1]]"
   ]
  },
  {
   "cell_type": "code",
   "execution_count": null,
   "id": "5aa19bcd-719c-4e7a-82c7-18642f60ff0b",
   "metadata": {},
   "outputs": [],
   "source": [
    "df = df.sort_values(axis=0, by=[\"File_name\"], ignore_index=True)\n",
    "df = df.drop(columns=[\"index\"])"
   ]
  },
  {
   "cell_type": "code",
   "execution_count": null,
   "id": "e45d458b-c435-4f30-9b9a-06d3ea157743",
   "metadata": {},
   "outputs": [],
   "source": [
    "df.to_csv(\"data/images_data.csv\", index=False)"
   ]
  },
  {
   "cell_type": "code",
   "execution_count": null,
   "id": "e6f9c694-d166-4901-8387-bc78ab3a0679",
   "metadata": {},
   "outputs": [],
   "source": [
    "df_bis = pd.read_csv(\"data/images_data.csv\")\n",
    "df_bis"
   ]
  },
  {
   "cell_type": "code",
   "execution_count": null,
   "id": "eb028be4-dc80-4c8b-94fb-5dc58a164d8f",
   "metadata": {},
   "outputs": [],
   "source": [
    "object???"
   ]
  },
  {
   "cell_type": "code",
   "execution_count": null,
   "id": "79dfe216-5d07-4592-8abe-f2b78d98d21b",
   "metadata": {},
   "outputs": [],
   "source": []
  }
 ],
 "metadata": {
  "kernelspec": {
   "display_name": "venv_pytorch",
   "language": "python",
   "name": "venv_pytorch"
  },
  "language_info": {
   "codemirror_mode": {
    "name": "ipython",
    "version": 3
   },
   "file_extension": ".py",
   "mimetype": "text/x-python",
   "name": "python",
   "nbconvert_exporter": "python",
   "pygments_lexer": "ipython3",
   "version": "3.9.13"
  }
 },
 "nbformat": 4,
 "nbformat_minor": 5
}
